{
 "cells": [
  {
   "cell_type": "code",
   "execution_count": 1,
   "id": "bac1ebb4",
   "metadata": {},
   "outputs": [
    {
     "name": "stdout",
     "output_type": "stream",
     "text": [
      "Collecting jupytext\n",
      "  Obtaining dependency information for jupytext from https://files.pythonhosted.org/packages/19/d0/8cc6fb49c36794f15f8ce50f54b9327029a0d738097c085df95b0d1d108f/jupytext-1.16.1-py3-none-any.whl.metadata\n",
      "  Downloading jupytext-1.16.1-py3-none-any.whl.metadata (12 kB)\n",
      "Requirement already satisfied: markdown-it-py>=1.0 in c:\\users\\kiit\\anaconda3\\lib\\site-packages (from jupytext) (2.2.0)\n",
      "Requirement already satisfied: mdit-py-plugins in c:\\users\\kiit\\anaconda3\\lib\\site-packages (from jupytext) (0.3.0)\n",
      "Requirement already satisfied: nbformat in c:\\users\\kiit\\anaconda3\\lib\\site-packages (from jupytext) (5.7.0)\n",
      "Requirement already satisfied: packaging in c:\\users\\kiit\\anaconda3\\lib\\site-packages (from jupytext) (23.0)\n",
      "Requirement already satisfied: pyyaml in c:\\users\\kiit\\anaconda3\\lib\\site-packages (from jupytext) (6.0)\n",
      "Requirement already satisfied: toml in c:\\users\\kiit\\anaconda3\\lib\\site-packages (from jupytext) (0.10.2)\n",
      "Requirement already satisfied: mdurl~=0.1 in c:\\users\\kiit\\anaconda3\\lib\\site-packages (from markdown-it-py>=1.0->jupytext) (0.1.0)\n",
      "Requirement already satisfied: fastjsonschema in c:\\users\\kiit\\anaconda3\\lib\\site-packages (from nbformat->jupytext) (2.16.2)\n",
      "Requirement already satisfied: jsonschema>=2.6 in c:\\users\\kiit\\anaconda3\\lib\\site-packages (from nbformat->jupytext) (4.17.3)\n",
      "Requirement already satisfied: jupyter-core in c:\\users\\kiit\\anaconda3\\lib\\site-packages (from nbformat->jupytext) (5.3.0)\n",
      "Requirement already satisfied: traitlets>=5.1 in c:\\users\\kiit\\anaconda3\\lib\\site-packages (from nbformat->jupytext) (5.7.1)\n",
      "Requirement already satisfied: attrs>=17.4.0 in c:\\users\\kiit\\anaconda3\\lib\\site-packages (from jsonschema>=2.6->nbformat->jupytext) (22.1.0)\n",
      "Requirement already satisfied: pyrsistent!=0.17.0,!=0.17.1,!=0.17.2,>=0.14.0 in c:\\users\\kiit\\anaconda3\\lib\\site-packages (from jsonschema>=2.6->nbformat->jupytext) (0.18.0)\n",
      "Requirement already satisfied: platformdirs>=2.5 in c:\\users\\kiit\\anaconda3\\lib\\site-packages (from jupyter-core->nbformat->jupytext) (2.5.2)\n",
      "Requirement already satisfied: pywin32>=300 in c:\\users\\kiit\\anaconda3\\lib\\site-packages (from jupyter-core->nbformat->jupytext) (305.1)\n",
      "Using cached jupytext-1.16.1-py3-none-any.whl (152 kB)\n",
      "Installing collected packages: jupytext\n",
      "Successfully installed jupytext-1.16.1\n"
     ]
    }
   ],
   "source": [
    "!pip install jupytext\n"
   ]
  },
  {
   "cell_type": "code",
   "execution_count": 5,
   "id": "3237777a",
   "metadata": {},
   "outputs": [
    {
     "name": "stderr",
     "output_type": "stream",
     "text": [
      "UsageError: Cell magic `%%jupytext` not found.\n"
     ]
    }
   ],
   "source": [
    "%%jupytext --to ipynb similarity_test.py\n"
   ]
  },
  {
   "cell_type": "code",
   "execution_count": 6,
   "id": "30783fdb",
   "metadata": {},
   "outputs": [
    {
     "name": "stdout",
     "output_type": "stream",
     "text": [
      "Requirement already satisfied: jupytext in c:\\users\\kiit\\anaconda3\\lib\\site-packages (1.16.1)\n",
      "Requirement already satisfied: markdown-it-py>=1.0 in c:\\users\\kiit\\anaconda3\\lib\\site-packages (from jupytext) (2.2.0)\n",
      "Requirement already satisfied: mdit-py-plugins in c:\\users\\kiit\\anaconda3\\lib\\site-packages (from jupytext) (0.3.0)\n",
      "Requirement already satisfied: nbformat in c:\\users\\kiit\\anaconda3\\lib\\site-packages (from jupytext) (5.7.0)\n",
      "Requirement already satisfied: packaging in c:\\users\\kiit\\anaconda3\\lib\\site-packages (from jupytext) (23.0)\n",
      "Requirement already satisfied: pyyaml in c:\\users\\kiit\\anaconda3\\lib\\site-packages (from jupytext) (6.0)\n",
      "Requirement already satisfied: toml in c:\\users\\kiit\\anaconda3\\lib\\site-packages (from jupytext) (0.10.2)\n",
      "Requirement already satisfied: mdurl~=0.1 in c:\\users\\kiit\\anaconda3\\lib\\site-packages (from markdown-it-py>=1.0->jupytext) (0.1.0)\n",
      "Requirement already satisfied: fastjsonschema in c:\\users\\kiit\\anaconda3\\lib\\site-packages (from nbformat->jupytext) (2.16.2)\n",
      "Requirement already satisfied: jsonschema>=2.6 in c:\\users\\kiit\\anaconda3\\lib\\site-packages (from nbformat->jupytext) (4.17.3)\n",
      "Requirement already satisfied: jupyter-core in c:\\users\\kiit\\anaconda3\\lib\\site-packages (from nbformat->jupytext) (5.3.0)\n",
      "Requirement already satisfied: traitlets>=5.1 in c:\\users\\kiit\\anaconda3\\lib\\site-packages (from nbformat->jupytext) (5.7.1)\n",
      "Requirement already satisfied: attrs>=17.4.0 in c:\\users\\kiit\\anaconda3\\lib\\site-packages (from jsonschema>=2.6->nbformat->jupytext) (22.1.0)\n",
      "Requirement already satisfied: pyrsistent!=0.17.0,!=0.17.1,!=0.17.2,>=0.14.0 in c:\\users\\kiit\\anaconda3\\lib\\site-packages (from jsonschema>=2.6->nbformat->jupytext) (0.18.0)\n",
      "Requirement already satisfied: platformdirs>=2.5 in c:\\users\\kiit\\anaconda3\\lib\\site-packages (from jupyter-core->nbformat->jupytext) (2.5.2)\n",
      "Requirement already satisfied: pywin32>=300 in c:\\users\\kiit\\anaconda3\\lib\\site-packages (from jupyter-core->nbformat->jupytext) (305.1)\n"
     ]
    }
   ],
   "source": [
    "!pip install jupytext\n"
   ]
  },
  {
   "cell_type": "code",
   "execution_count": 7,
   "id": "7aa9f687",
   "metadata": {},
   "outputs": [
    {
     "name": "stderr",
     "output_type": "stream",
     "text": [
      "UsageError: Cell magic `%%jupytext` not found.\n"
     ]
    }
   ],
   "source": [
    "%%jupytext --to ipynb similarity_test.py\n"
   ]
  },
  {
   "cell_type": "code",
   "execution_count": null,
   "id": "bb123428",
   "metadata": {},
   "outputs": [],
   "source": []
  }
 ],
 "metadata": {
  "kernelspec": {
   "display_name": "Python 3 (ipykernel)",
   "language": "python",
   "name": "python3"
  },
  "language_info": {
   "codemirror_mode": {
    "name": "ipython",
    "version": 3
   },
   "file_extension": ".py",
   "mimetype": "text/x-python",
   "name": "python",
   "nbconvert_exporter": "python",
   "pygments_lexer": "ipython3",
   "version": "3.11.4"
  }
 },
 "nbformat": 4,
 "nbformat_minor": 5
}
